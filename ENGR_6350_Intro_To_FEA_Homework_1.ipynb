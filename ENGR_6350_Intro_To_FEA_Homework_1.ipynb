{
  "nbformat": 4,
  "nbformat_minor": 0,
  "metadata": {
    "colab": {
      "provenance": []
    },
    "kernelspec": {
      "name": "python3",
      "display_name": "Python 3"
    },
    "language_info": {
      "name": "python"
    }
  },
  "cells": [
    {
      "cell_type": "markdown",
      "source": [
        "# ENGR-6350-Intro-To-FEA-Homework-1\n",
        "\n",
        "## 1. Lookup Function for Calculating Shape Function Values\n",
        "\n",
        "## 2. Lookup Function for Calculating Value for Derivative of Shape Functions\n",
        "\n"
      ],
      "metadata": {
        "id": "kNTPExLkTziW"
      }
    },
    {
      "cell_type": "code",
      "source": [
        "import numpy as np"
      ],
      "metadata": {
        "id": "85tf6O5fT0CY"
      },
      "execution_count": 4,
      "outputs": []
    },
    {
      "cell_type": "markdown",
      "source": [
        "### Lookup Function for Calculating Shape Function Values"
      ],
      "metadata": {
        "id": "IRZpZKyfUUi2"
      }
    },
    {
      "cell_type": "code",
      "source": [
        "def N1D(xi, nn):\n",
        "    \"\"\"\n",
        "    N1D: Shape functions for 1D element\n",
        "    xi : location in parent domain [-1, 1]\n",
        "    nn : number of nodes (2 or 3)\n",
        "\n",
        "    Returns:\n",
        "    N : list of shape function values\n",
        "    \"\"\"\n",
        "    if nn == 2:\n",
        "        N = [(1 - xi) / 2, (1 + xi) / 2]\n",
        "    elif nn == 3:\n",
        "        N = [xi * (xi - 1) / 2, 1 - xi**2, xi * (xi + 1) / 2]\n",
        "    else:\n",
        "        raise ValueError('Only 2-node or 3-node elements supported')\n",
        "\n",
        "    return N"
      ],
      "metadata": {
        "id": "WKIHBUoRUidu"
      },
      "execution_count": 5,
      "outputs": []
    },
    {
      "cell_type": "code",
      "source": [
        "    print(N1D(-1, 2))  # [1.0, 0.0]\n",
        "    print(N1D(0, 2))   # [0.5, 0.5]\n",
        "    print(N1D(1, 2))   # [0.0, 1.0]\n",
        "\n",
        "    print(N1D(-1, 3))  # [1.0, 0.0, 0.0]\n",
        "    print(N1D(0, 3))   # [0.0, 1.0, 0.0]\n",
        "    print(N1D(1, 3))   # [0.0, 0.0, 1.0]"
      ],
      "metadata": {
        "colab": {
          "base_uri": "https://localhost:8080/"
        },
        "id": "riBNuhpZVepj",
        "outputId": "67a13640-4ff7-4914-e63c-543583dd02e9"
      },
      "execution_count": 6,
      "outputs": [
        {
          "output_type": "stream",
          "name": "stdout",
          "text": [
            "[1.0, 0.0]\n",
            "[0.5, 0.5]\n",
            "[0.0, 1.0]\n",
            "[1.0, 0, 0.0]\n",
            "[0.0, 1, 0.0]\n",
            "[0.0, 0, 1.0]\n"
          ]
        }
      ]
    },
    {
      "cell_type": "markdown",
      "source": [
        "## Lookup Function for Calculating Value for Derivative of Shape Functions"
      ],
      "metadata": {
        "id": "9P_GGXJWUi7r"
      }
    },
    {
      "cell_type": "code",
      "source": [
        "def B1D(xi, nn):\n",
        "    \"\"\"\n",
        "    B1D: Derivatives of 1D shape functions\n",
        "    xi : location in parent domain [-1, 1]\n",
        "    nn : number of nodes (2 or 3)\n",
        "\n",
        "    Returns:\n",
        "    B : list of shape function derivatives\n",
        "    \"\"\"\n",
        "    if nn == 2:\n",
        "        B = [-0.5, 0.5]\n",
        "    elif nn == 3:\n",
        "        B = [xi - 0.5, -2 * xi, xi + 0.5]\n",
        "    else:\n",
        "        raise ValueError('Only 2-node or 3-node elements supported')\n",
        "\n",
        "    return B"
      ],
      "metadata": {
        "id": "nr91aCNDTgLT"
      },
      "execution_count": 7,
      "outputs": []
    },
    {
      "cell_type": "code",
      "source": [
        "print(B1D(-1, 2))  # [-0.5, 0.5]\n",
        "print(B1D(0, 2))   # [-0.5, 0.5]\n",
        "print(B1D(1, 2))   # [-0.5, 0.5]\n",
        "print(B1D(0.0, 3)) # [ -0.5, 0.0, 0.5 ]\n"
      ],
      "metadata": {
        "colab": {
          "base_uri": "https://localhost:8080/"
        },
        "id": "c9A_XtQ6Vagc",
        "outputId": "aa5341e6-6262-445c-9f24-bd39e48274d2"
      },
      "execution_count": 8,
      "outputs": [
        {
          "output_type": "stream",
          "name": "stdout",
          "text": [
            "[-0.5, 0.5]\n",
            "[-0.5, 0.5]\n",
            "[-0.5, 0.5]\n",
            "[-0.5, -0.0, 0.5]\n"
          ]
        }
      ]
    }
  ]
}